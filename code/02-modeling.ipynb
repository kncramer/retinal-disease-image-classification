{
 "cells": [
  {
   "cell_type": "markdown",
   "id": "24029a7f-715a-4e0d-b586-7c66a8bdc42a",
   "metadata": {},
   "source": [
    "# Modeling\n",
    "---\n",
    "..."
   ]
  },
  {
   "cell_type": "markdown",
   "id": "1448a735-7e2f-4822-b1d0-0c9ee0fb29ee",
   "metadata": {},
   "source": [
    "## Binary Classification"
   ]
  },
  {
   "cell_type": "code",
   "execution_count": null,
   "id": "d1141419-3c55-43e6-9fd9-9f439b9e5315",
   "metadata": {},
   "outputs": [],
   "source": []
  }
 ],
 "metadata": {
  "kernelspec": {
   "display_name": "base",
   "language": "python",
   "name": "base"
  },
  "language_info": {
   "codemirror_mode": {
    "name": "ipython",
    "version": 3
   },
   "file_extension": ".py",
   "mimetype": "text/x-python",
   "name": "python",
   "nbconvert_exporter": "python",
   "pygments_lexer": "ipython3",
   "version": "3.12.4"
  }
 },
 "nbformat": 4,
 "nbformat_minor": 5
}
